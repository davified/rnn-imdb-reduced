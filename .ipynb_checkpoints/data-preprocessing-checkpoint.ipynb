{
 "cells": [
  {
   "cell_type": "markdown",
   "metadata": {},
   "source": [
    "Data source: [Kaggle Bag of Words Meets Bags of Popcorn](https://www.kaggle.com/c/word2vec-nlp-tutorial)"
   ]
  },
  {
   "cell_type": "code",
   "execution_count": 1,
   "metadata": {},
   "outputs": [],
   "source": [
    "import pandas as pd\n",
    "import matplotlib.pyplot as plt\n",
    "import numpy as np\n",
    "\n",
    "%matplotlib inline\n",
    "pd.options.display.max_columns = 40"
   ]
  },
  {
   "cell_type": "code",
   "execution_count": 7,
   "metadata": {},
   "outputs": [],
   "source": [
    "import sys\n",
    "reload(sys)\n",
    "sys.setdefaultencoding('utf-8')\n",
    "\n",
    "from bs4 import BeautifulSoup\n",
    "import pandas as pd\n",
    "\n",
    "train_data = pd.read_csv(\"./data/raw/labeledTrainData.tsv\", \n",
    "                         header = 0, delimiter = \"\\t\", quoting = 3, error_bad_lines=False)\n",
    "\n",
    "\n",
    "bw_pos = open('./data/full-train-pos.txt', 'w')\n",
    "bw_neg = open('./data/full-train-neg.txt ', 'w')\n",
    "bw_train = open('./data/full-train.txt', 'w')\n",
    "\n",
    "num_reviews = train_data[\"review\"].size\n",
    "print \"Cleaning and dumping the training set movie reviews...\"\n",
    "for i in xrange(0, num_reviews):\n",
    "    text = BeautifulSoup(train_data[\"review\"][i]).get_text()\n",
    "    text = text.strip('\"')\n",
    "    text = text.replace('\\\\', '')\n",
    "    \n",
    "    label = train_data[\"sentiment\"][i]\n",
    "    if label == 1:\n",
    "        bw_pos.write(text + '\\n')\n",
    "    else:\n",
    "        bw_neg.write(text + '\\n')\n",
    "    \n",
    "    bw_train.write(text + '\\n')\n",
    "\n",
    "bw_pos.close()\n",
    "bw_neg.close()\n",
    "bw_train.close()\n",
    "\n",
    "test_data = pd.read_csv(\"./data/raw/testData.tsv\", header = 0, delimiter = \"\\t\", quoting = 3)\n",
    "num_reviews = len(test_data[\"review\"])\n",
    "bw_test = open('./data/full-test.txt', 'w')\n",
    "\n",
    "print \"Cleaning and dumping the testing set movie reviews...\"\n",
    "for i in xrange(0, num_reviews):\n",
    "    text = BeautifulSoup(test_data[\"review\"][i]).get_text()\n",
    "    text = text.strip('\"')\n",
    "    text = text.replace('\\\\', '')\n",
    "    \n",
    "    bw_test.write(text + '\\n')\n",
    "bw_test.close()\n",
    "\n",
    "\n",
    "unlabel_data = pd.read_csv(\"./data/raw/unlabeledTrainData.tsv\", header = 0, delimiter = \"\\t\", quoting = 3)\n",
    "num_reviews = len(test_data[\"review\"])\n",
    "bw_unlabel = open('./data/full-unlabeled.txt', 'w')\n",
    "\n",
    "print \"Cleaning and dumping the unlabeled set movie reviews...\"\n",
    "for i in xrange(0, num_reviews):\n",
    "    text = BeautifulSoup(unlabel_data[\"review\"][i]).get_text()\n",
    "    text = text.strip('\"')\n",
    "    text = text.replace('\\\\', '')\n",
    "    \n",
    "    bw_unlabel.write(text + '\\n')\n",
    "bw_unlabel.close()\n"
   ]
  },
  {
   "cell_type": "code",
   "execution_count": null,
   "metadata": {},
   "outputs": [],
   "source": []
  }
 ],
 "metadata": {
  "kernelspec": {
   "display_name": ".venv",
   "language": "python",
   "name": ".venv"
  },
  "language_info": {
   "codemirror_mode": {
    "name": "ipython",
    "version": 2
   },
   "file_extension": ".py",
   "mimetype": "text/x-python",
   "name": "python",
   "nbconvert_exporter": "python",
   "pygments_lexer": "ipython2",
   "version": "2.7.13"
  }
 },
 "nbformat": 4,
 "nbformat_minor": 2
}
